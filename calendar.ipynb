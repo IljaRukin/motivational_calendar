{
 "cells": [
  {
   "cell_type": "code",
   "execution_count": 1,
   "id": "bound-barrel",
   "metadata": {},
   "outputs": [],
   "source": [
    "%reset -f\n",
    "from reportlab.lib.units import inch\n",
    "from reportlab.lib import colors\n",
    "from reportlab.lib.pagesizes import letter\n",
    "from reportlab.platypus import SimpleDocTemplate, Table, TableStyle\n",
    "from reportlab.graphics.shapes import Drawing\n",
    "from reportlab.pdfgen import canvas\n",
    "import calendar\n",
    "import ghostscript"
   ]
  },
  {
   "cell_type": "raw",
   "id": "arctic-victoria",
   "metadata": {},
   "source": [
    "#month of calendar\n",
    "doc = SimpleDocTemplate('month.pdf', pagesize=letter)\n",
    "\n",
    "cal = [['Mon', 'Tue', 'Wed', 'Thu', 'Fri', 'Sat', 'Sun']]\n",
    "cal.extend(calendar.monthcalendar(2011,9))\n",
    "\n",
    "\n",
    "table = Table(cal, 7*[inch], len(cal) * [inch])\n",
    "\n",
    "table.setStyle(TableStyle([\n",
    "        ('FONT', (0, 0), (-1, -1), 'Helvetica'),\n",
    "        ('FONT', (0, 0), (-1, 0), 'Helvetica-Bold'),\n",
    "        ('FONTSIZE', (0, 0), (-1, -1), 8),\n",
    "        ('INNERGRID', (0, 0), (-1, -1), 0.25, colors.black),\n",
    "        ('BOX', (0, 0), (-1, -1), 0.25, colors.green),\n",
    "        ('ALIGN', (0, 0), (-1, -1), 'CENTER'),\n",
    "        ('VALIGN', (0, 0), (-1, -1), 'MIDDLE'),\n",
    "    ]))\n",
    "\n",
    "#create the pdf with this\n",
    "doc.build([table])"
   ]
  },
  {
   "cell_type": "raw",
   "id": "dying-tooth",
   "metadata": {},
   "source": [
    "args = ['gs', #it seems not to matter what is put in 1st position\n",
    "        '-dSAFER',\n",
    "        '-dBATCH',\n",
    "        '-dNOPAUSE',\n",
    "        '-sDEVICE=png16m',\n",
    "        '-r100',\n",
    "        '-sOutputFile=calendar.png',\n",
    "        'calendar.pdf']\n",
    "\n",
    "ghostscript.Ghostscript(*args)"
   ]
  },
  {
   "cell_type": "code",
   "execution_count": null,
   "id": "forced-basic",
   "metadata": {},
   "outputs": [],
   "source": []
  },
  {
   "cell_type": "code",
   "execution_count": 2,
   "id": "junior-christopher",
   "metadata": {},
   "outputs": [],
   "source": [
    "#background\n",
    "doc = canvas.Canvas('background.pdf', pagesize=letter)\n",
    "doc.setFillColorRGB(0.4,0.4,0.4)\n",
    "#x,y(left/bottom;0/0 -> right/top;615/795)\n",
    "doc.setFillColorRGB(0.7,0.7,0.7) #choose your font colour\n",
    "doc.setFont(\"Helvetica-Bold\", 150) #choose your font type and font size\n",
    "doc.drawString(0,685,\"<<<<<\")\n",
    "doc.drawString(100,480,\"NO\")\n",
    "doc.drawString(100,330,\"DAYS\")\n",
    "doc.drawString(100,180,\"OFF\")\n",
    "doc.drawString(170,0,\">>>>>\")\n",
    "doc.showPage()\n",
    "doc.save()"
   ]
  },
  {
   "cell_type": "code",
   "execution_count": 3,
   "id": "complicated-cuisine",
   "metadata": {},
   "outputs": [],
   "source": [
    "#calendar\n",
    "doc = SimpleDocTemplate('calendar.pdf', pagesize=letter)\n",
    "\n",
    "cal = [['','','','','2','0','2','3','','','',''],\n",
    "       ['Jan','Feb','Mar','Apr','Mai','Jun','Jul','Aug','Sep','Okt','Nov','Dec']]\n",
    "\n",
    "for nn in range(1,31+1):\n",
    "    days = 12*[str(nn)]\n",
    "    if nn==29:\n",
    "#        days[2-1]='(29)'\n",
    "        if input('has february 29 days ? (type True or False):')=='True':\n",
    "            days[2-1]='29'\n",
    "        else:\n",
    "            days[2-1]=''\n",
    "    if nn>29:\n",
    "        days[2-1]=''\n",
    "    if nn==31:\n",
    "        days[4-1]=''\n",
    "        days[6-1]=''\n",
    "        days[9-1]=''\n",
    "        days[11-1]=''\n",
    "    cal.append(days)\n",
    "\n",
    "w, h = 12*[45], len(cal)*[20]\n",
    "h[0] = 55\n",
    "h[1] = 30\n",
    "table = Table(cal, w, h)\n",
    "\n",
    "table.setStyle(TableStyle([\n",
    "    ('FONT', (0, 0), (-1, -1), 'Helvetica'),\n",
    "    ('FONTSIZE', (0, 0), (-1, -1), 14.5),\n",
    "    ('FONT', (0, 0), (-1, 1), 'Helvetica-Bold'),\n",
    "    ('FONTSIZE', (0, 0), (-1, 1), 20),\n",
    "    ('FONT', (0, 0), (-1, 0), 'Helvetica-Bold'),\n",
    "    ('FONTSIZE', (0, 0), (-1, 0), 40),\n",
    "    ('ALIGN', (0, 0), (-1, -1), 'CENTER'),\n",
    "    ('VALIGN', (0, 0), (-1, -1), 'MIDDLE'),\n",
    "#    ('TEXTCOLOR', (0, 0), (-1, -1), 'grey'),\n",
    "#    ('INNERGRID', (0, 0), (-1, -1), 0.25, colors.black),\n",
    "#    ('BOX', (0, 0), (-1, -1), 0.25, colors.green),\n",
    "    ]))\n",
    "\n",
    "doc.topMargin = 0\n",
    "\n",
    "#create the pdf with this\n",
    "doc.build([table])"
   ]
  },
  {
   "cell_type": "code",
   "execution_count": null,
   "id": "stupid-wesley",
   "metadata": {},
   "outputs": [],
   "source": []
  },
  {
   "cell_type": "code",
   "execution_count": 4,
   "id": "pregnant-liberal",
   "metadata": {},
   "outputs": [],
   "source": [
    "# add page 4 from input1, but first add a watermark from another pdf:\n",
    "import PyPDF2\n",
    "document = PyPDF2.PdfFileReader(open(\"calendar.pdf\", \"rb\")).getPage(0)\n",
    "watermark = PyPDF2.PdfFileReader(open(\"background.pdf\", \"rb\")).getPage(0)\n",
    "watermark.mergePage(document)"
   ]
  },
  {
   "cell_type": "code",
   "execution_count": 5,
   "id": "talented-suffering",
   "metadata": {},
   "outputs": [],
   "source": [
    "pdfWriter = PyPDF2.PdfFileWriter()\n",
    "pdfWriter.addPage(watermark)\n",
    "resultPdf = open('complete_calendar.pdf', 'wb')\n",
    "pdfWriter.write(resultPdf)\n",
    "resultPdf.close()"
   ]
  },
  {
   "cell_type": "code",
   "execution_count": null,
   "id": "super-sharp",
   "metadata": {},
   "outputs": [],
   "source": []
  }
 ],
 "metadata": {
  "kernelspec": {
   "display_name": "Python 3",
   "language": "python",
   "name": "python3"
  },
  "language_info": {
   "codemirror_mode": {
    "name": "ipython",
    "version": 3
   },
   "file_extension": ".py",
   "mimetype": "text/x-python",
   "name": "python",
   "nbconvert_exporter": "python",
   "pygments_lexer": "ipython3",
   "version": "3.8.8"
  }
 },
 "nbformat": 4,
 "nbformat_minor": 5
}
